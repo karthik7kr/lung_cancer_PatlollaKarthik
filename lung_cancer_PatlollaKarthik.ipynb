{
  "cells": [
    {
      "cell_type": "code",
      "execution_count": 3,
      "metadata": {
        "id": "jZfPfxjPSqx-"
      },
      "outputs": [],
      "source": [
        "import pandas as pd\n",
        "import numpy as np\n",
        "from sklearn.model_selection import train_test_split\n",
        "from sklearn.preprocessing import StandardScaler\n",
        "from sklearn.tree import DecisionTreeClassifier\n",
        "from sklearn.decomposition import PCA\n",
        "from sklearn.metrics import accuracy_score, precision_score, recall_score, f1_score, confusion_matrix\n",
        "import warnings\n",
        "warnings.filterwarnings('ignore')"
      ]
    },
    {
      "cell_type": "code",
      "execution_count": 4,
      "metadata": {
        "colab": {
          "base_uri": "https://localhost:8080/"
        },
        "id": "fjNHXWsISqx-",
        "outputId": "c82cc127-e255-4dd3-f9f5-03f6fa8b4a80"
      },
      "outputs": [
        {
          "output_type": "stream",
          "name": "stdout",
          "text": [
            "Dataset shape: (59, 7)\n",
            "\n",
            "Dataset info:\n",
            "<class 'pandas.core.frame.DataFrame'>\n",
            "RangeIndex: 59 entries, 0 to 58\n",
            "Data columns (total 7 columns):\n",
            " #   Column   Non-Null Count  Dtype \n",
            "---  ------   --------------  ----- \n",
            " 0   Name     59 non-null     object\n",
            " 1   Surname  59 non-null     object\n",
            " 2   Age      59 non-null     int64 \n",
            " 3   Smokes   59 non-null     int64 \n",
            " 4   AreaQ    59 non-null     int64 \n",
            " 5   Alkhol   59 non-null     int64 \n",
            " 6   Result   59 non-null     int64 \n",
            "dtypes: int64(5), object(2)\n",
            "memory usage: 3.4+ KB\n",
            "None\n",
            "\n",
            "Missing values:\n",
            "Name       0\n",
            "Surname    0\n",
            "Age        0\n",
            "Smokes     0\n",
            "AreaQ      0\n",
            "Alkhol     0\n",
            "Result     0\n",
            "dtype: int64\n"
          ]
        }
      ],
      "source": [
        "# Load the dataset\n",
        "data = pd.read_csv('Lung_Cancer_dataset.csv')\n",
        "print(\"Dataset shape:\", data.shape)\n",
        "print(\"\\nDataset info:\")\n",
        "print(data.info())\n",
        "print(\"\\nMissing values:\")\n",
        "print(data.isnull().sum())"
      ]
    },
    {
      "cell_type": "code",
      "execution_count": 5,
      "metadata": {
        "colab": {
          "base_uri": "https://localhost:8080/"
        },
        "id": "gbJ7lHTpSqx-",
        "outputId": "40f954c5-2748-4109-a0b5-370b40d74578"
      },
      "outputs": [
        {
          "output_type": "stream",
          "name": "stdout",
          "text": [
            "Features: ['Age', 'Smokes', 'AreaQ', 'Alkhol']\n",
            "Feature matrix shape: (59, 4)\n",
            "Target distribution:\n",
            "Result\n",
            "0    31\n",
            "1    28\n",
            "Name: count, dtype: int64\n"
          ]
        }
      ],
      "source": [
        "# Removing non-predictive columns and prepare features\n",
        "# Drop Name and Surname as they are not predictive features\n",
        "X = data.drop(['Name', 'Surname', 'Result'], axis=1)\n",
        "y = data['Result']\n",
        "\n",
        "print(\"Features:\", X.columns.tolist())\n",
        "print(\"Feature matrix shape:\", X.shape)\n",
        "print(\"Target distribution:\")\n",
        "print(y.value_counts())"
      ]
    },
    {
      "cell_type": "code",
      "execution_count": 6,
      "metadata": {
        "colab": {
          "base_uri": "https://localhost:8080/"
        },
        "id": "zT05EIw4Sqx_",
        "outputId": "c6078478-e35e-430b-886f-204a6f0ba620"
      },
      "outputs": [
        {
          "output_type": "stream",
          "name": "stdout",
          "text": [
            "Training set size: 47\n",
            "Test set size: 12\n"
          ]
        }
      ],
      "source": [
        "# Train-test split\n",
        "X_train, X_test, y_train, y_test = train_test_split(X, y, test_size=0.2, random_state=42, stratify=y)\n",
        "\n",
        "print(\"Training set size:\", X_train.shape[0])\n",
        "print(\"Test set size:\", X_test.shape[0])"
      ]
    },
    {
      "cell_type": "code",
      "execution_count": 7,
      "metadata": {
        "colab": {
          "base_uri": "https://localhost:8080/"
        },
        "id": "MmoQYukUSqx_",
        "outputId": "110b80a7-591e-4a83-ec9d-1646a30dd6c1"
      },
      "outputs": [
        {
          "output_type": "stream",
          "name": "stdout",
          "text": [
            "Feature scaling completed\n",
            "Scaled training data shape: (47, 4)\n"
          ]
        }
      ],
      "source": [
        "# Feature scaling\n",
        "scaler = StandardScaler()\n",
        "X_train_scaled = scaler.fit_transform(X_train)\n",
        "X_test_scaled = scaler.transform(X_test)\n",
        "\n",
        "print(\"Feature scaling completed\")\n",
        "print(\"Scaled training data shape:\", X_train_scaled.shape)"
      ]
    },
    {
      "cell_type": "code",
      "execution_count": 8,
      "metadata": {
        "colab": {
          "base_uri": "https://localhost:8080/"
        },
        "id": "0N_i2f8zSqx_",
        "outputId": "336d44e6-7e41-49c4-d325-3bd7b9d82c5a"
      },
      "outputs": [
        {
          "output_type": "stream",
          "name": "stdout",
          "text": [
            "Baseline Decision Tree model trained\n"
          ]
        }
      ],
      "source": [
        "# Building Decision Tree classifier\n",
        "dt_baseline = DecisionTreeClassifier(random_state=42)\n",
        "dt_baseline.fit(X_train_scaled, y_train)\n",
        "\n",
        "# Making predictions\n",
        "y_pred_baseline = dt_baseline.predict(X_test_scaled)\n",
        "\n",
        "print(\"Baseline Decision Tree model trained\")"
      ]
    },
    {
      "cell_type": "code",
      "execution_count": 9,
      "metadata": {
        "colab": {
          "base_uri": "https://localhost:8080/"
        },
        "id": "VWiEL0OoSqx_",
        "outputId": "f3ebf872-8e7a-4735-f14f-3c8c834fcf44"
      },
      "outputs": [
        {
          "output_type": "stream",
          "name": "stdout",
          "text": [
            "Baseline Model Performance:\n",
            "Accuracy: 1.0000\n",
            "Precision: 1.0000\n",
            "Recall: 1.0000\n",
            "F1-Score: 1.0000\n",
            "\n",
            "Confusion Matrix:\n",
            "[[6 0]\n",
            " [0 6]]\n"
          ]
        }
      ],
      "source": [
        "# Evaluating baseline model\n",
        "baseline_accuracy = accuracy_score(y_test, y_pred_baseline)\n",
        "baseline_precision = precision_score(y_test, y_pred_baseline)\n",
        "baseline_recall = recall_score(y_test, y_pred_baseline)\n",
        "baseline_f1 = f1_score(y_test, y_pred_baseline)\n",
        "baseline_cm = confusion_matrix(y_test, y_pred_baseline)\n",
        "\n",
        "print(\"Baseline Model Performance:\")\n",
        "print(f\"Accuracy: {baseline_accuracy:.4f}\")\n",
        "print(f\"Precision: {baseline_precision:.4f}\")\n",
        "print(f\"Recall: {baseline_recall:.4f}\")\n",
        "print(f\"F1-Score: {baseline_f1:.4f}\")\n",
        "print(\"\\nConfusion Matrix:\")\n",
        "print(baseline_cm)"
      ]
    },
    {
      "cell_type": "code",
      "execution_count": 10,
      "metadata": {
        "colab": {
          "base_uri": "https://localhost:8080/"
        },
        "id": "hlij2YvgSqx_",
        "outputId": "a3cd98a2-5303-4ed4-9244-34536fc8af87"
      },
      "outputs": [
        {
          "output_type": "stream",
          "name": "stdout",
          "text": [
            "Feature Importance (Baseline Model):\n",
            "  Feature  Importance\n",
            "3  Alkhol    0.792048\n",
            "2   AreaQ    0.143861\n",
            "0     Age    0.064091\n",
            "1  Smokes    0.000000\n"
          ]
        }
      ],
      "source": [
        "# Feature importance analysis\n",
        "feature_importance = pd.DataFrame({\n",
        "    'Feature': X.columns,\n",
        "    'Importance': dt_baseline.feature_importances_\n",
        "}).sort_values('Importance', ascending=False)\n",
        "\n",
        "print(\"Feature Importance (Baseline Model):\")\n",
        "print(feature_importance)"
      ]
    },
    {
      "cell_type": "code",
      "execution_count": 11,
      "metadata": {
        "colab": {
          "base_uri": "https://localhost:8080/"
        },
        "id": "pY1N722jSqx_",
        "outputId": "6172b7e4-926b-4593-cfca-60e335e43406"
      },
      "outputs": [
        {
          "output_type": "stream",
          "name": "stdout",
          "text": [
            "PCA Analysis:\n",
            "Explained variance ratios: [0.53091571 0.25421908 0.15870353 0.05616168]\n",
            "Cumulative variance: [0.53091571 0.78513479 0.94383832 1.        ]\n",
            "Components needed for ≥95% variance: 4\n",
            "Actual variance retained: 1.0000\n"
          ]
        }
      ],
      "source": [
        "# Applying PCA to retain components explaining ≥95% variance\n",
        "pca_full = PCA()\n",
        "pca_full.fit(X_train_scaled)\n",
        "\n",
        "# Calculating cumulative explained variance\n",
        "cumulative_variance = np.cumsum(pca_full.explained_variance_ratio_)\n",
        "\n",
        "# Finding number of components for ≥95% variance\n",
        "n_components = np.argmax(cumulative_variance >= 0.95) + 1\n",
        "\n",
        "print(\"PCA Analysis:\")\n",
        "print(f\"Explained variance ratios: {pca_full.explained_variance_ratio_}\")\n",
        "print(f\"Cumulative variance: {cumulative_variance}\")\n",
        "print(f\"Components needed for ≥95% variance: {n_components}\")\n",
        "print(f\"Actual variance retained: {cumulative_variance[n_components-1]:.4f}\")"
      ]
    },
    {
      "cell_type": "code",
      "execution_count": 12,
      "metadata": {
        "colab": {
          "base_uri": "https://localhost:8080/"
        },
        "id": "o40QHwLiSqyA",
        "outputId": "a2d93606-0cca-4261-bfbe-a02e014d5ae3"
      },
      "outputs": [
        {
          "output_type": "stream",
          "name": "stdout",
          "text": [
            "Original dimensions: 4\n",
            "PCA dimensions: 4\n",
            "Variance retained: 1.0000\n"
          ]
        }
      ],
      "source": [
        "# Applying PCA transformation\n",
        "pca = PCA(n_components=n_components, random_state=42)\n",
        "X_train_pca = pca.fit_transform(X_train_scaled)\n",
        "X_test_pca = pca.transform(X_test_scaled)\n",
        "\n",
        "print(f\"Original dimensions: {X_train_scaled.shape[1]}\")\n",
        "print(f\"PCA dimensions: {X_train_pca.shape[1]}\")\n",
        "print(f\"Variance retained: {pca.explained_variance_ratio_.sum():.4f}\")"
      ]
    },
    {
      "cell_type": "code",
      "execution_count": 13,
      "metadata": {
        "colab": {
          "base_uri": "https://localhost:8080/"
        },
        "id": "TSY9eRMeSqyA",
        "outputId": "180e5cca-0d22-4e86-dbd4-0917dabffb41"
      },
      "outputs": [
        {
          "output_type": "stream",
          "name": "stdout",
          "text": [
            "PCA Decision Tree model trained\n"
          ]
        }
      ],
      "source": [
        "# Building Decision Tree with PCA features\n",
        "dt_pca = DecisionTreeClassifier(random_state=42)\n",
        "dt_pca.fit(X_train_pca, y_train)\n",
        "\n",
        "# Making predictions\n",
        "y_pred_pca = dt_pca.predict(X_test_pca)\n",
        "\n",
        "print(\"PCA Decision Tree model trained\")"
      ]
    },
    {
      "cell_type": "code",
      "execution_count": 14,
      "metadata": {
        "colab": {
          "base_uri": "https://localhost:8080/"
        },
        "id": "hzsrLElnSqyA",
        "outputId": "32d1c38c-9aed-4f74-fc0d-f92fbe301a4e"
      },
      "outputs": [
        {
          "output_type": "stream",
          "name": "stdout",
          "text": [
            "PCA Model Performance:\n",
            "Accuracy: 0.9167\n",
            "Precision: 0.8571\n",
            "Recall: 1.0000\n",
            "F1-Score: 0.9231\n",
            "\n",
            "Confusion Matrix:\n",
            "[[5 1]\n",
            " [0 6]]\n"
          ]
        }
      ],
      "source": [
        "# Evaluating PCA model\n",
        "pca_accuracy = accuracy_score(y_test, y_pred_pca)\n",
        "pca_precision = precision_score(y_test, y_pred_pca)\n",
        "pca_recall = recall_score(y_test, y_pred_pca)\n",
        "pca_f1 = f1_score(y_test, y_pred_pca)\n",
        "pca_cm = confusion_matrix(y_test, y_pred_pca)\n",
        "\n",
        "print(\"PCA Model Performance:\")\n",
        "print(f\"Accuracy: {pca_accuracy:.4f}\")\n",
        "print(f\"Precision: {pca_precision:.4f}\")\n",
        "print(f\"Recall: {pca_recall:.4f}\")\n",
        "print(f\"F1-Score: {pca_f1:.4f}\")\n",
        "print(\"\\nConfusion Matrix:\")\n",
        "print(pca_cm)"
      ]
    },
    {
      "cell_type": "code",
      "execution_count": 15,
      "metadata": {
        "colab": {
          "base_uri": "https://localhost:8080/"
        },
        "id": "pNMD-UOUSqyA",
        "outputId": "5c96566d-db1b-497b-c22e-c88047748a4e"
      },
      "outputs": [
        {
          "output_type": "stream",
          "name": "stdout",
          "text": [
            "Model Comparison:\n",
            "      Metric  Baseline       PCA  Difference\n",
            "0   Accuracy       1.0  0.916667   -0.083333\n",
            "1  Precision       1.0  0.857143   -0.142857\n",
            "2     Recall       1.0  1.000000    0.000000\n",
            "3   F1-Score       1.0  0.923077   -0.076923\n"
          ]
        }
      ],
      "source": [
        "# Comparing baseline and PCA models\n",
        "comparison = pd.DataFrame({\n",
        "    'Metric': ['Accuracy', 'Precision', 'Recall', 'F1-Score'],\n",
        "    'Baseline': [baseline_accuracy, baseline_precision, baseline_recall, baseline_f1],\n",
        "    'PCA': [pca_accuracy, pca_precision, pca_recall, pca_f1]\n",
        "})\n",
        "\n",
        "comparison['Difference'] = comparison['PCA'] - comparison['Baseline']\n",
        "\n",
        "print(\"Model Comparison:\")\n",
        "print(comparison)"
      ]
    },
    {
      "cell_type": "code",
      "execution_count": 20,
      "metadata": {
        "colab": {
          "base_uri": "https://localhost:8080/"
        },
        "id": "11N5MDMSSqyA",
        "outputId": "4c88b41f-c9ad-428a-8121-b025580c2bf6"
      },
      "outputs": [
        {
          "output_type": "stream",
          "name": "stdout",
          "text": [
            "   Alkhol: 0.7920\n",
            "   AreaQ: 0.1439\n",
            "   Age: 0.0641\n",
            "   - Dimensions reduced from 4 to 4\n",
            "   - Variance retained: 100.00%\n",
            "   - Accuracy decreased by 0.0833\n",
            "   - Baseline model accuracy: 1.0000\n",
            "   - PCA model accuracy: 0.9167\n",
            "   - PCA reduced performance but simplified the model\n"
          ]
        }
      ],
      "source": [
        "# Discussion of results\n",
        "\n",
        "\n",
        "for idx, row in feature_importance.iterrows():\n",
        "    if row['Importance'] > 0:\n",
        "        print(f\"   {row['Feature']}: {row['Importance']:.4f}\")\n",
        "\n",
        "\n",
        "print(f\"   - Dimensions reduced from {X_train_scaled.shape[1]} to {X_train_pca.shape[1]}\")\n",
        "print(f\"   - Variance retained: {pca.explained_variance_ratio_.sum()*100:.2f}%\")\n",
        "\n",
        "accuracy_change = pca_accuracy - baseline_accuracy\n",
        "if accuracy_change > 0:\n",
        "    print(f\"   - Accuracy improved by {accuracy_change:.4f}\")\n",
        "elif accuracy_change < 0:\n",
        "    print(f\"   - Accuracy decreased by {abs(accuracy_change):.4f}\")\n",
        "else:\n",
        "    print(f\"   - Accuracy remained the same\")\n",
        "\n",
        "\n",
        "print(f\"   - Baseline model accuracy: {baseline_accuracy:.4f}\")\n",
        "print(f\"   - PCA model accuracy: {pca_accuracy:.4f}\")\n",
        "if pca_accuracy > baseline_accuracy:\n",
        "    print(f\"   - PCA improved performance while reducing dimensionality\")\n",
        "elif pca_accuracy < baseline_accuracy:\n",
        "    print(f\"   - PCA reduced performance but simplified the model\")\n",
        "else:\n",
        "    print(f\"   - PCA maintained performance with reduced complexity\")"
      ]
    }
  ],
  "metadata": {
    "kernelspec": {
      "display_name": "Python 3",
      "language": "python",
      "name": "python3"
    },
    "language_info": {
      "codemirror_mode": {
        "name": "ipython",
        "version": 3
      },
      "file_extension": ".py",
      "mimetype": "text/x-python",
      "name": "python",
      "nbconvert_exporter": "python",
      "pygments_lexer": "ipython3",
      "version": "3.8.5"
    },
    "colab": {
      "provenance": []
    }
  },
  "nbformat": 4,
  "nbformat_minor": 0
}